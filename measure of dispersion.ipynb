{
 "cells": [
  {
   "cell_type": "code",
   "execution_count": 1,
   "id": "d941f065-aa75-46c3-a997-4071e3d7e945",
   "metadata": {},
   "outputs": [],
   "source": [
    "list=[23,45,86,97,2,5,39,58,25,57,45,68,78]"
   ]
  },
  {
   "cell_type": "code",
   "execution_count": 2,
   "id": "93b565e0-e898-4ba1-81b5-a1a4b8832bd8",
   "metadata": {},
   "outputs": [],
   "source": [
    "import numpy as np"
   ]
  },
  {
   "cell_type": "code",
   "execution_count": 3,
   "id": "15d3b906-07b8-4182-8474-084309d90179",
   "metadata": {},
   "outputs": [],
   "source": [
    "mean=np.mean(list)"
   ]
  },
  {
   "cell_type": "code",
   "execution_count": 4,
   "id": "e3f2225a-7147-414d-9391-fec7c18d4402",
   "metadata": {},
   "outputs": [
    {
     "data": {
      "text/plain": [
       "48.30769230769231"
      ]
     },
     "execution_count": 4,
     "metadata": {},
     "output_type": "execute_result"
    }
   ],
   "source": [
    "mean"
   ]
  },
  {
   "cell_type": "code",
   "execution_count": 5,
   "id": "4102161c-5be7-4bbb-99ba-7220b308dadc",
   "metadata": {},
   "outputs": [],
   "source": [
    "var=np.var(list)"
   ]
  },
  {
   "cell_type": "code",
   "execution_count": 6,
   "id": "0a35b6b8-e3d6-4975-b9b5-9d6657871732",
   "metadata": {},
   "outputs": [
    {
     "data": {
      "text/plain": [
       "810.9822485207102"
      ]
     },
     "execution_count": 6,
     "metadata": {},
     "output_type": "execute_result"
    }
   ],
   "source": [
    "var"
   ]
  },
  {
   "cell_type": "code",
   "execution_count": 7,
   "id": "39c37a8c-a789-41c5-9984-462793d7b089",
   "metadata": {},
   "outputs": [],
   "source": [
    "std=np.std(list)"
   ]
  },
  {
   "cell_type": "code",
   "execution_count": 8,
   "id": "c11c8af9-abbf-4d49-baf6-530f5b30ab69",
   "metadata": {},
   "outputs": [
    {
     "data": {
      "text/plain": [
       "28.477750060717756"
      ]
     },
     "execution_count": 8,
     "metadata": {},
     "output_type": "execute_result"
    }
   ],
   "source": [
    "std"
   ]
  },
  {
   "cell_type": "code",
   "execution_count": 9,
   "id": "6037caf9-d1a2-48ae-bf92-8d1f673fe895",
   "metadata": {},
   "outputs": [],
   "source": [
    "import pandas as pd"
   ]
  },
  {
   "cell_type": "code",
   "execution_count": 10,
   "id": "05169c52-5897-47a9-8184-32db3397e19d",
   "metadata": {},
   "outputs": [],
   "source": [
    "data=[[10,12,13],[14,15,16],[18,19,20],[45,98,65]]"
   ]
  },
  {
   "cell_type": "code",
   "execution_count": 11,
   "id": "071744b2-d3d0-4ca7-89dc-e983d7211a93",
   "metadata": {},
   "outputs": [],
   "source": [
    "df=pd.DataFrame(data)"
   ]
  },
  {
   "cell_type": "code",
   "execution_count": 12,
   "id": "8d4feb30-1bce-4fff-87b3-1e29457dd1eb",
   "metadata": {},
   "outputs": [
    {
     "data": {
      "text/plain": [
       "[[10, 12, 13], [14, 15, 16], [18, 19, 20], [45, 98, 65]]"
      ]
     },
     "execution_count": 12,
     "metadata": {},
     "output_type": "execute_result"
    }
   ],
   "source": [
    "data"
   ]
  },
  {
   "cell_type": "code",
   "execution_count": 13,
   "id": "99edfc12-04b3-458a-a14c-44080f9cda97",
   "metadata": {},
   "outputs": [
    {
     "data": {
      "text/html": [
       "<div>\n",
       "<style scoped>\n",
       "    .dataframe tbody tr th:only-of-type {\n",
       "        vertical-align: middle;\n",
       "    }\n",
       "\n",
       "    .dataframe tbody tr th {\n",
       "        vertical-align: top;\n",
       "    }\n",
       "\n",
       "    .dataframe thead th {\n",
       "        text-align: right;\n",
       "    }\n",
       "</style>\n",
       "<table border=\"1\" class=\"dataframe\">\n",
       "  <thead>\n",
       "    <tr style=\"text-align: right;\">\n",
       "      <th></th>\n",
       "      <th>0</th>\n",
       "      <th>1</th>\n",
       "      <th>2</th>\n",
       "    </tr>\n",
       "  </thead>\n",
       "  <tbody>\n",
       "    <tr>\n",
       "      <th>0</th>\n",
       "      <td>10</td>\n",
       "      <td>12</td>\n",
       "      <td>13</td>\n",
       "    </tr>\n",
       "    <tr>\n",
       "      <th>1</th>\n",
       "      <td>14</td>\n",
       "      <td>15</td>\n",
       "      <td>16</td>\n",
       "    </tr>\n",
       "    <tr>\n",
       "      <th>2</th>\n",
       "      <td>18</td>\n",
       "      <td>19</td>\n",
       "      <td>20</td>\n",
       "    </tr>\n",
       "    <tr>\n",
       "      <th>3</th>\n",
       "      <td>45</td>\n",
       "      <td>98</td>\n",
       "      <td>65</td>\n",
       "    </tr>\n",
       "  </tbody>\n",
       "</table>\n",
       "</div>"
      ],
      "text/plain": [
       "    0   1   2\n",
       "0  10  12  13\n",
       "1  14  15  16\n",
       "2  18  19  20\n",
       "3  45  98  65"
      ]
     },
     "execution_count": 13,
     "metadata": {},
     "output_type": "execute_result"
    }
   ],
   "source": [
    "df"
   ]
  },
  {
   "cell_type": "code",
   "execution_count": 14,
   "id": "8f48d8ed-0c8d-4bf0-a9bf-26bad42f429c",
   "metadata": {},
   "outputs": [
    {
     "data": {
      "text/plain": [
       "0     250.916667\n",
       "1    1716.666667\n",
       "2     600.333333\n",
       "dtype: float64"
      ]
     },
     "execution_count": 14,
     "metadata": {},
     "output_type": "execute_result"
    }
   ],
   "source": [
    "df.var()"
   ]
  },
  {
   "cell_type": "code",
   "execution_count": 15,
   "id": "ea8050b7-819c-4299-8e0b-f8df006e348c",
   "metadata": {},
   "outputs": [
    {
     "data": {
      "text/plain": [
       "0    15.840349\n",
       "1    41.432676\n",
       "2    24.501701\n",
       "dtype: float64"
      ]
     },
     "execution_count": 15,
     "metadata": {},
     "output_type": "execute_result"
    }
   ],
   "source": [
    "df.std()"
   ]
  },
  {
   "cell_type": "code",
   "execution_count": 16,
   "id": "49b9b8aa-3cb7-4799-9ff9-411fa9917ed0",
   "metadata": {
    "tags": []
   },
   "outputs": [
    {
     "data": {
      "text/plain": [
       "0      2.333333\n",
       "1      1.000000\n",
       "2      1.000000\n",
       "3    716.333333\n",
       "dtype: float64"
      ]
     },
     "execution_count": 16,
     "metadata": {},
     "output_type": "execute_result"
    }
   ],
   "source": [
    "df.var(axis=1)"
   ]
  },
  {
   "cell_type": "code",
   "execution_count": null,
   "id": "58c27bb3-30eb-462f-b342-104054f815ea",
   "metadata": {},
   "outputs": [],
   "source": []
  },
  {
   "cell_type": "markdown",
   "id": "04549d43-251c-46d3-922c-9506ae6312c6",
   "metadata": {},
   "source": []
  },
  {
   "cell_type": "code",
   "execution_count": null,
   "id": "0ba355e8-8ff6-4700-a9bc-acd4086e19cb",
   "metadata": {},
   "outputs": [],
   "source": []
  },
  {
   "cell_type": "code",
   "execution_count": null,
   "id": "51a13523-6b34-477a-8099-54a66edc718b",
   "metadata": {},
   "outputs": [],
   "source": []
  },
  {
   "cell_type": "code",
   "execution_count": null,
   "id": "2fdff0a4-5439-4933-ba7e-c1d10656edc0",
   "metadata": {},
   "outputs": [],
   "source": []
  },
  {
   "cell_type": "raw",
   "id": "797c1e2d-7ff6-4e76-96d1-89c5bf51996c",
   "metadata": {},
   "source": [
    "\n",
    "\n"
   ]
  }
 ],
 "metadata": {
  "kernelspec": {
   "display_name": "Python 3 (ipykernel)",
   "language": "python",
   "name": "python3"
  },
  "language_info": {
   "codemirror_mode": {
    "name": "ipython",
    "version": 3
   },
   "file_extension": ".py",
   "mimetype": "text/x-python",
   "name": "python",
   "nbconvert_exporter": "python",
   "pygments_lexer": "ipython3",
   "version": "3.10.8"
  }
 },
 "nbformat": 4,
 "nbformat_minor": 5
}
