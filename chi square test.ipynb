{
 "cells": [
  {
   "cell_type": "code",
   "execution_count": 2,
   "id": "0663e2ee-d7b4-42b1-8af0-c1035a40b49e",
   "metadata": {},
   "outputs": [],
   "source": [
    "import scipy.stats as stat\n",
    "import numpy as np\n"
   ]
  },
  {
   "cell_type": "code",
   "execution_count": 3,
   "id": "f612926f-26d1-4a9f-95b0-565b1aa54d66",
   "metadata": {},
   "outputs": [],
   "source": [
    "# No of hours student study daily in a weekly basis\n",
    "# monday,tuewsday,wednesday,thursday,friday,sturday,sunday\n",
    "\n",
    "expected=[8,6,7,9,6,9,7]\n",
    "observed=[7,8,6,9,9,6,7]"
   ]
  },
  {
   "cell_type": "code",
   "execution_count": 4,
   "id": "100114c1-d96d-4207-90d8-4bf293861e56",
   "metadata": {},
   "outputs": [
    {
     "data": {
      "text/plain": [
       "(52, 52)"
      ]
     },
     "execution_count": 4,
     "metadata": {},
     "output_type": "execute_result"
    }
   ],
   "source": [
    "sum(expected),sum(observed)\n"
   ]
  },
  {
   "cell_type": "code",
   "execution_count": 5,
   "id": "60363017-dd49-427d-bb10-a32edc5cdda2",
   "metadata": {},
   "outputs": [],
   "source": [
    "chisquare_test_statistics,p_value=stat.chisquare(observed,expected)"
   ]
  },
  {
   "cell_type": "code",
   "execution_count": 6,
   "id": "8c5b7b5f-7dfd-4205-a8f9-d1f0a6beb254",
   "metadata": {},
   "outputs": [
    {
     "name": "stdout",
     "output_type": "stream",
     "text": [
      "3.4345238095238093\n",
      "0.7526596580922865\n"
     ]
    },
    {
     "data": {
      "text/plain": [
       "(None, None)"
      ]
     },
     "execution_count": 6,
     "metadata": {},
     "output_type": "execute_result"
    }
   ],
   "source": [
    "print(chisquare_test_statistics),print(p_value)\n"
   ]
  },
  {
   "cell_type": "code",
   "execution_count": 7,
   "id": "86ed69bc-5d11-425e-a46f-449ecc4d02b3",
   "metadata": {},
   "outputs": [],
   "source": [
    "significane=0.05\n",
    "dof=len(observed)-1\n",
    "cv=stat.chi2.ppf(1-significane,dof)"
   ]
  },
  {
   "cell_type": "code",
   "execution_count": 8,
   "id": "cd61776e-b89b-423d-a012-08cbb2fd7430",
   "metadata": {},
   "outputs": [
    {
     "data": {
      "text/plain": [
       "12.591587243743977"
      ]
     },
     "execution_count": 8,
     "metadata": {},
     "output_type": "execute_result"
    }
   ],
   "source": [
    "cv"
   ]
  },
  {
   "cell_type": "code",
   "execution_count": 9,
   "id": "bae79d36-1402-40e9-80f1-704298accb96",
   "metadata": {},
   "outputs": [
    {
     "name": "stdout",
     "output_type": "stream",
     "text": [
      "Accept the null hypothesis\n"
     ]
    }
   ],
   "source": [
    "if chisquare_test_statistics> cv:\n",
    "    print(\"reject null hypothesis\")\n",
    "else:\n",
    "    print(\"Accept the null hypothesis\")"
   ]
  },
  {
   "cell_type": "code",
   "execution_count": null,
   "id": "f43316a5-100a-4039-9f61-6ba578e9d6a2",
   "metadata": {},
   "outputs": [],
   "source": []
  }
 ],
 "metadata": {
  "kernelspec": {
   "display_name": "Python 3 (ipykernel)",
   "language": "python",
   "name": "python3"
  },
  "language_info": {
   "codemirror_mode": {
    "name": "ipython",
    "version": 3
   },
   "file_extension": ".py",
   "mimetype": "text/x-python",
   "name": "python",
   "nbconvert_exporter": "python",
   "pygments_lexer": "ipython3",
   "version": "3.10.8"
  }
 },
 "nbformat": 4,
 "nbformat_minor": 5
}
