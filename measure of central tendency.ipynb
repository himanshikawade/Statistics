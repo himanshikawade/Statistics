{
 "cells": [
  {
   "cell_type": "code",
   "execution_count": 1,
   "id": "0709ab71-33e8-40ea-89ff-78ea72092c0d",
   "metadata": {},
   "outputs": [],
   "source": [
    "age=[32,52,48,96,14,36,78,96]"
   ]
  },
  {
   "cell_type": "code",
   "execution_count": 3,
   "id": "f39b4d05-8dee-4022-b75b-165b85ca944b",
   "metadata": {},
   "outputs": [
    {
     "data": {
      "text/plain": [
       "56.5"
      ]
     },
     "execution_count": 3,
     "metadata": {},
     "output_type": "execute_result"
    }
   ],
   "source": [
    "(32+52+48+96+14+36+78+96)/8"
   ]
  },
  {
   "cell_type": "code",
   "execution_count": 4,
   "id": "989ed73c-ae39-4db6-bf26-e842edbdb404",
   "metadata": {},
   "outputs": [],
   "source": [
    "import numpy as np"
   ]
  },
  {
   "cell_type": "code",
   "execution_count": 5,
   "id": "cd74af08-a02f-4180-be0e-a764df07cee6",
   "metadata": {},
   "outputs": [
    {
     "data": {
      "text/plain": [
       "56.5"
      ]
     },
     "execution_count": 5,
     "metadata": {},
     "output_type": "execute_result"
    }
   ],
   "source": [
    "np.mean(age)"
   ]
  },
  {
   "cell_type": "code",
   "execution_count": 6,
   "id": "8257dd99-c978-4e00-b7c4-2e2c52ae5cc3",
   "metadata": {},
   "outputs": [],
   "source": [
    "weight=[45,25,36,98,58,64,25,35,64,42,45]"
   ]
  },
  {
   "cell_type": "code",
   "execution_count": 7,
   "id": "f3f0a0df-b3a6-4d06-93c6-c42d4f90821c",
   "metadata": {},
   "outputs": [
    {
     "data": {
      "text/plain": [
       "48.81818181818182"
      ]
     },
     "execution_count": 7,
     "metadata": {},
     "output_type": "execute_result"
    }
   ],
   "source": [
    "np.mean(weight)"
   ]
  },
  {
   "cell_type": "code",
   "execution_count": 8,
   "id": "5269666b-12dd-41cb-81cc-82f158deaf31",
   "metadata": {},
   "outputs": [
    {
     "data": {
      "text/plain": [
       "45.0"
      ]
     },
     "execution_count": 8,
     "metadata": {},
     "output_type": "execute_result"
    }
   ],
   "source": [
    "np.median(weight)"
   ]
  },
  {
   "cell_type": "code",
   "execution_count": 9,
   "id": "c6cd5064-9807-4787-9e8d-50a353d594ea",
   "metadata": {},
   "outputs": [],
   "source": [
    "from scipy import stats"
   ]
  },
  {
   "cell_type": "code",
   "execution_count": 10,
   "id": "e5d0c489-f79b-4933-be9b-1efb048220cf",
   "metadata": {},
   "outputs": [
    {
     "name": "stderr",
     "output_type": "stream",
     "text": [
      "/tmp/ipykernel_77/1102139219.py:1: FutureWarning: Unlike other reduction functions (e.g. `skew`, `kurtosis`), the default behavior of `mode` typically preserves the axis it acts along. In SciPy 1.11.0, this behavior will change: the default value of `keepdims` will become False, the `axis` over which the statistic is taken will be eliminated, and the value None will no longer be accepted. Set `keepdims` to True or False to avoid this warning.\n",
      "  stats.mode(weight)\n"
     ]
    },
    {
     "data": {
      "text/plain": [
       "ModeResult(mode=array([25]), count=array([2]))"
      ]
     },
     "execution_count": 10,
     "metadata": {},
     "output_type": "execute_result"
    }
   ],
   "source": [
    "stats.mode(weight)"
   ]
  },
  {
   "cell_type": "code",
   "execution_count": null,
   "id": "d9116346-11ac-4771-9388-6c8731f40c48",
   "metadata": {},
   "outputs": [],
   "source": []
  }
 ],
 "metadata": {
  "kernelspec": {
   "display_name": "Python 3 (ipykernel)",
   "language": "python",
   "name": "python3"
  },
  "language_info": {
   "codemirror_mode": {
    "name": "ipython",
    "version": 3
   },
   "file_extension": ".py",
   "mimetype": "text/x-python",
   "name": "python",
   "nbconvert_exporter": "python",
   "pygments_lexer": "ipython3",
   "version": "3.10.8"
  }
 },
 "nbformat": 4,
 "nbformat_minor": 5
}
