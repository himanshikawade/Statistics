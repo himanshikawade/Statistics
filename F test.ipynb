{
 "cells": [
  {
   "cell_type": "code",
   "execution_count": 1,
   "id": "a401afe3-7c8e-4fc2-b34f-6246c665fa96",
   "metadata": {},
   "outputs": [],
   "source": [
    "worker1=[18,19,22,25,27,28,41,45,51,55]\n",
    "worker2=[14,15,15,17,18,22,25,25,27,34]"
   ]
  },
  {
   "cell_type": "code",
   "execution_count": 4,
   "id": "e13861a3-ac91-47ef-938b-f68b31b45e30",
   "metadata": {},
   "outputs": [],
   "source": [
    "import numpy as np\n",
    "ftest=np.var(worker1)/np.var(worker2)"
   ]
  },
  {
   "cell_type": "code",
   "execution_count": 5,
   "id": "910fd535-a64c-4a2d-be3a-8ff6215ddb70",
   "metadata": {},
   "outputs": [
    {
     "data": {
      "text/plain": [
       "4.387122002085506"
      ]
     },
     "execution_count": 5,
     "metadata": {},
     "output_type": "execute_result"
    }
   ],
   "source": [
    "ftest"
   ]
  },
  {
   "cell_type": "code",
   "execution_count": 6,
   "id": "82400e50-b5ad-400e-b611-740e25f71836",
   "metadata": {},
   "outputs": [],
   "source": [
    "df1=len(worker1)-1\n",
    "df2=len(worker2)-1\n",
    "sig=0.05"
   ]
  },
  {
   "cell_type": "code",
   "execution_count": 8,
   "id": "a568e4fc-aefe-4a56-ba50-e0e4505dd478",
   "metadata": {},
   "outputs": [],
   "source": [
    "import scipy.stats as stat"
   ]
  },
  {
   "cell_type": "code",
   "execution_count": 8,
   "id": "a286c68d-9c03-4402-b7cf-51d10dab68c8",
   "metadata": {},
   "outputs": [],
   "source": [
    "import scipy.stats as stat"
   ]
  },
  {
   "cell_type": "code",
   "execution_count": 10,
   "id": "12b4a846-51b9-42fe-a6f2-2209a21b9b7a",
   "metadata": {},
   "outputs": [],
   "source": [
    "cv=stat.f.ppf(q=1-sig,dfn=df1,dfd=df2)"
   ]
  },
  {
   "cell_type": "code",
   "execution_count": 11,
   "id": "3fe5250a-90db-439f-aec9-9d2730e9b090",
   "metadata": {},
   "outputs": [
    {
     "name": "stdout",
     "output_type": "stream",
     "text": [
      "reject null hypothesis\n"
     ]
    }
   ],
   "source": [
    "if ftest> cv:\n",
    "    print(\"reject null hypothesis\")\n",
    "else:\n",
    "    print(\"Accept the null hypothesis\")"
   ]
  },
  {
   "cell_type": "code",
   "execution_count": null,
   "id": "7c9eb2ce-d32a-4794-be62-e328df0ff0b1",
   "metadata": {},
   "outputs": [],
   "source": []
  }
 ],
 "metadata": {
  "kernelspec": {
   "display_name": "Python 3 (ipykernel)",
   "language": "python",
   "name": "python3"
  },
  "language_info": {
   "codemirror_mode": {
    "name": "ipython",
    "version": 3
   },
   "file_extension": ".py",
   "mimetype": "text/x-python",
   "name": "python",
   "nbconvert_exporter": "python",
   "pygments_lexer": "ipython3",
   "version": "3.10.8"
  }
 },
 "nbformat": 4,
 "nbformat_minor": 5
}
